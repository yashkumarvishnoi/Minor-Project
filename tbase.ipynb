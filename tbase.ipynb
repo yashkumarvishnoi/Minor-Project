{
 "cells": [
  {
   "cell_type": "code",
   "execution_count": 1,
   "id": "8c55c53c",
   "metadata": {},
   "outputs": [
    {
     "name": "stdout",
     "output_type": "stream",
     "text": [
      "Downloading model from Hugging Face Hub...\n"
     ]
    },
    {
     "name": "stderr",
     "output_type": "stream",
     "text": [
      "c:\\Users\\ACER\\AppData\\Local\\Programs\\Python\\Python311\\Lib\\site-packages\\huggingface_hub\\file_download.py:896: FutureWarning: `resume_download` is deprecated and will be removed in version 1.0.0. Downloads always resume when possible. If you want to force a new download, use `force_download=True`.\n",
      "  warnings.warn(\n"
     ]
    },
    {
     "data": {
      "application/vnd.jupyter.widget-view+json": {
       "model_id": "5c38d22c6a1b44fe8b64655924839c7d",
       "version_major": 2,
       "version_minor": 0
      },
      "text/plain": [
       "tokenizer_config.json:   0%|          | 0.00/2.50k [00:00<?, ?B/s]"
      ]
     },
     "metadata": {},
     "output_type": "display_data"
    },
    {
     "data": {
      "application/vnd.jupyter.widget-view+json": {
       "model_id": "c8da2328790747b3a920e9735af84087",
       "version_major": 2,
       "version_minor": 0
      },
      "text/plain": [
       "spiece.model:   0%|          | 0.00/792k [00:00<?, ?B/s]"
      ]
     },
     "metadata": {},
     "output_type": "display_data"
    },
    {
     "data": {
      "application/vnd.jupyter.widget-view+json": {
       "model_id": "149cdaaa91694e14b8866a816c6806d1",
       "version_major": 2,
       "version_minor": 0
      },
      "text/plain": [
       "tokenizer.json:   0%|          | 0.00/2.42M [00:00<?, ?B/s]"
      ]
     },
     "metadata": {},
     "output_type": "display_data"
    },
    {
     "data": {
      "application/vnd.jupyter.widget-view+json": {
       "model_id": "936eb32be8a240ef863730124c1592bc",
       "version_major": 2,
       "version_minor": 0
      },
      "text/plain": [
       "special_tokens_map.json:   0%|          | 0.00/2.20k [00:00<?, ?B/s]"
      ]
     },
     "metadata": {},
     "output_type": "display_data"
    },
    {
     "data": {
      "application/vnd.jupyter.widget-view+json": {
       "model_id": "f2ff8527409a481b9e8a70c41020ebfd",
       "version_major": 2,
       "version_minor": 0
      },
      "text/plain": [
       "config.json:   0%|          | 0.00/1.53k [00:00<?, ?B/s]"
      ]
     },
     "metadata": {},
     "output_type": "display_data"
    },
    {
     "name": "stderr",
     "output_type": "stream",
     "text": [
      "c:\\Users\\ACER\\AppData\\Local\\Programs\\Python\\Python311\\Lib\\site-packages\\huggingface_hub\\file_download.py:896: FutureWarning: `resume_download` is deprecated and will be removed in version 1.0.0. Downloads always resume when possible. If you want to force a new download, use `force_download=True`.\n",
      "  warnings.warn(\n"
     ]
    },
    {
     "data": {
      "application/vnd.jupyter.widget-view+json": {
       "model_id": "f1cc52756dc946ecbaff0d4ba73fd282",
       "version_major": 2,
       "version_minor": 0
      },
      "text/plain": [
       "pytorch_model.bin:   0%|          | 0.00/990M [00:00<?, ?B/s]"
      ]
     },
     "metadata": {},
     "output_type": "display_data"
    },
    {
     "data": {
      "application/vnd.jupyter.widget-view+json": {
       "model_id": "75a2ef237d574d0eb2359bb48f438a59",
       "version_major": 2,
       "version_minor": 0
      },
      "text/plain": [
       "generation_config.json:   0%|          | 0.00/147 [00:00<?, ?B/s]"
      ]
     },
     "metadata": {},
     "output_type": "display_data"
    },
    {
     "name": "stdout",
     "output_type": "stream",
     "text": [
      "Model saved to ./flan-t5-xsum-model\n",
      "Summary: Astronomers say they have uncovered new insights into the galaxy's ring structure and black holes.\n"
     ]
    }
   ],
   "source": [
    "# model_loader.py\n",
    "from transformers import AutoTokenizer, AutoModelForSeq2SeqLM\n",
    "import torch\n",
    "import os\n",
    "\n",
    "# Configuration - saves in the same directory as your app.py\n",
    "MODEL_NAME = \"spacemanidol/flan-t5-base-xsum\"\n",
    "LOCAL_MODEL_DIR = \"./flan-t5-xsum-model\"  # Folder will be created next to app.py\n",
    "DEVICE = \"cuda\" if torch.cuda.is_available() else \"cpu\"\n",
    "\n",
    "def setup_model():\n",
    "    \"\"\"Download (if needed) and load the model with local caching\"\"\"\n",
    "    # Create model directory if it doesn't exist\n",
    "    os.makedirs(LOCAL_MODEL_DIR, exist_ok=True)\n",
    "    \n",
    "    # Check if model already exists locally\n",
    "    if not os.path.exists(os.path.join(LOCAL_MODEL_DIR, \"pytorch_model.bin\")):\n",
    "        print(\"Downloading model from Hugging Face Hub...\")\n",
    "        tokenizer = AutoTokenizer.from_pretrained(MODEL_NAME)\n",
    "        model = AutoModelForSeq2SeqLM.from_pretrained(MODEL_NAME)\n",
    "        \n",
    "        # Save locally for future use\n",
    "        model.save_pretrained(LOCAL_MODEL_DIR)\n",
    "        tokenizer.save_pretrained(LOCAL_MODEL_DIR)\n",
    "        print(f\"Model saved to {LOCAL_MODEL_DIR}\")\n",
    "    else:\n",
    "        print(\"Loading model from local cache...\")\n",
    "    \n",
    "    # Load from local files\n",
    "    tokenizer = AutoTokenizer.from_pretrained(LOCAL_MODEL_DIR)\n",
    "    model = AutoModelForSeq2SeqLM.from_pretrained(LOCAL_MODEL_DIR).to(DEVICE)\n",
    "    \n",
    "    return model, tokenizer\n",
    "\n",
    "def summarize(text, model, tokenizer, max_length=128):\n",
    "    \"\"\"Generate a summary for the input text\"\"\"\n",
    "    inputs = tokenizer(\n",
    "        \"summarize: \" + text,\n",
    "        max_length=1024,\n",
    "        truncation=True,\n",
    "        return_tensors=\"pt\"\n",
    "    ).to(DEVICE)\n",
    "    \n",
    "    outputs = model.generate(\n",
    "        **inputs,\n",
    "        max_length=max_length,\n",
    "        num_beams=4,\n",
    "        early_stopping=True\n",
    "    )\n",
    "    return tokenizer.decode(outputs[0], skip_special_tokens=True)\n",
    "\n",
    "# Initialize model (will auto-download on first run)\n",
    "model, tokenizer = setup_model()\n",
    "\n",
    "# Example usage (can be imported by app.py)\n",
    "if __name__ == \"__main__\":\n",
    "    test_article = \"\"\"\n",
    "    The James Webb Space Telescope has captured stunning new images of the Cartwheel Galaxy,\n",
    "    revealing never-before-seen details about star formation and black holes. \n",
    "    Located 500 million light-years away, the galaxy's unique ring structure resulted from \n",
    "    a high-speed collision between two galaxies. Scientists say these observations provide \n",
    "    new insights into galactic evolution.\n",
    "    \"\"\"\n",
    "    \n",
    "    print(\"Summary:\", summarize(test_article, model, tokenizer))"
   ]
  }
 ],
 "metadata": {
  "kernelspec": {
   "display_name": "Python 3",
   "language": "python",
   "name": "python3"
  },
  "language_info": {
   "codemirror_mode": {
    "name": "ipython",
    "version": 3
   },
   "file_extension": ".py",
   "mimetype": "text/x-python",
   "name": "python",
   "nbconvert_exporter": "python",
   "pygments_lexer": "ipython3",
   "version": "3.11.6"
  }
 },
 "nbformat": 4,
 "nbformat_minor": 5
}
